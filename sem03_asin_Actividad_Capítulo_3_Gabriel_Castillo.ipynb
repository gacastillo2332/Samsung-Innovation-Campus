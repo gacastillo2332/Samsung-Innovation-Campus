{
 "cells": [
  {
   "cell_type": "markdown",
   "id": "5ad8356f",
   "metadata": {},
   "source": [
    "# Actividades Capítulo 3.\n",
    "\n",
    "\n",
    "# Concepto básico de programación e inicio en Python\n",
    "\n",
    "## Resumen de actividades\n",
    "\n",
    "\n",
    "- **Unidad 17.** Función\n",
    "- **Unidad 18.** Llamada a la función de recurrencia.\n",
    "- **Unidad 19.** Lambda\n",
    "- **Unidad 20.** Clausura\n",
    "- **Unidad 21.** Clase\n"
   ]
  },
  {
   "cell_type": "markdown",
   "id": "8c5aa9c8",
   "metadata": {},
   "source": [
    "# Actividad: Creacion de funciones.\n",
    "\n",
    "\n",
    "## Instrucciones\n",
    "\n",
    "1. Defina en forma breve el concepto de función.\n",
    "\n",
    "2. Crear una función para realizar la suma de los números impares en el rango de 0 a 100, dentro de la función imprima los valores sumados y al final retorne el resultado de la sumatoria.\n"
   ]
  },
  {
   "cell_type": "code",
   "execution_count": 1,
   "id": "90cd2e33",
   "metadata": {},
   "outputs": [
    {
     "name": "stdout",
     "output_type": "stream",
     "text": [
      "La suma de los numeros impares del rango 0 hasta el 100 es de: 2500\n"
     ]
    }
   ],
   "source": [
    "# Espacio para desarrollar el código requerido, recuerde agregar algunos\n",
    "# comentarios breves sobre su funcionamiento.\n",
    "\n",
    "#Explicacion de funcion\n",
    "\n",
    "''' Las funciones se pueden conceptualizar como un bloque de codigo que va a ser reutilizado multiples veces y que realiza una tarea especifica. '''\n",
    "\n",
    "def suma_impares(num):\n",
    "    acum = 0\n",
    "    for value in range(0,num+1,1):\n",
    "        if value % 2 != 0:\n",
    "            acum = acum + value\n",
    "    if(acum != 0):\n",
    "        print(f\"La suma de los numeros impares del rango 0 hasta el {num} es de: {acum}\")\n",
    "    else:\n",
    "        print(\"No se ha encontrado ningun numero impar el cual sumar.\")\n",
    "\n",
    "\n",
    "suma_impares(100)\n",
    "\n",
    "\n",
    "\n",
    "\n",
    "\n",
    "\n",
    "\n",
    "\n"
   ]
  },
  {
   "cell_type": "markdown",
   "id": "a11871f3",
   "metadata": {},
   "source": [
    "# Actividad: Diseñe una función para codificar strings y otra para decodificar strings.\n",
    "\n",
    "1. Revise documentación relacionada a los procesos de encriptación, explique brevemente como funcionan.\n",
    "2. Ambas funciones deben tener como entrada un string y una ¨Clave\", la ¨Clave¨ será usada para codificar y decodificar.\n",
    "3. El desarrollo de está actividad esta abierto a multiples soluciones, por favor sea original en su respuesta.\n"
   ]
  },
  {
   "cell_type": "code",
   "execution_count": 2,
   "id": "1e7a5371",
   "metadata": {},
   "outputs": [
    {
     "name": "stdout",
     "output_type": "stream",
     "text": [
      "Cadena original: Papa\n",
      "La cadena codificada: IWUJ\n",
      "La clave generada es: TWFJ\n",
      "La palabra decodificada: PAPA\n"
     ]
    }
   ],
   "source": [
    "# Espacio para desarrollar la actividad, si tienes alguna duda o comentario adicional\n",
    "# lo puedes dejar planteado acá.\n",
    "\n",
    "#Explicación de encriptacion\n",
    "''' La encriptacion es un proceso de transformar una información legible en ilegible a esto textos ilegibles se le categorizan como texto cifrado,\n",
    " y existen varios tipos de cifrado como los asincronicos, sincronicos, funciones hash y cifrado de flujo y bloque. '''\n",
    "\n",
    "#Cifrado Vigenere\n",
    "\n",
    "import random\n",
    "\n",
    "def determinar_prox_letra(letra):\n",
    "    if(letra == 'Z' or letra == 'z'):\n",
    "        return 'A'\n",
    "    else:\n",
    "        if(letra != 0):\n",
    "            return chr(ord(letra) + 1)\n",
    "\n",
    "\n",
    "def realizar_tabla_Vigenere():\n",
    "    tabla = [[0]*27 for _ in range(27)]\n",
    "    #tabla[0][0] = None\n",
    "    tabla[0][1] = 'A'\n",
    "    tabla[1][0] = 'A'\n",
    "    tabla[1][1] = 'A'\n",
    "\n",
    "    for i in range(1,26,1):\n",
    "        tabla[0][i+1] = determinar_prox_letra(tabla[0][i])\n",
    "        tabla[i+1][0] = determinar_prox_letra(tabla[i][0])\n",
    "\n",
    "    for i in range(1,26,1):\n",
    "        tabla[1][i+1] = determinar_prox_letra(tabla[1][i])\n",
    "        tabla[i+1][1] = determinar_prox_letra(tabla[i][1])\n",
    "\n",
    "    for i in range(1,27,1):\n",
    "        for j in range(1,26,1):\n",
    "            tabla[i][j+1] = determinar_prox_letra(tabla[i][j])\n",
    "    \n",
    "    '''\n",
    "    for i in range(0,27,1):\n",
    "        print('\\n')\n",
    "        for j in range(0,27,1):\n",
    "            print(tabla[i][j], end = ' ') \n",
    "    '''\n",
    "    return tabla\n",
    "\n",
    "def determinar_clave(cadena):\n",
    "    clave = ''\n",
    "    for i in range(0,len(cadena),1):\n",
    "        clave =  clave + chr(random.randint(65,90))\n",
    "\n",
    "    return clave\n",
    "\n",
    "def codificar_mensaje(cadena):\n",
    "    dic = {}\n",
    "    tabla = realizar_tabla_Vigenere()\n",
    "    clave = determinar_clave(cadena)\n",
    "    cadena = cadena.upper()\n",
    "    fila = 0\n",
    "    colm = 0\n",
    "    pal_encriptada = ''\n",
    "\n",
    "    for i in range (0,len(cadena),1):\n",
    "        for j in range(0,27, 1):\n",
    "            if cadena[i] == tabla[j][0]:\n",
    "                fila = j\n",
    "                break\n",
    "            else:\n",
    "                fila = 0\n",
    "\n",
    "        for j in range(0,27, 1):\n",
    "            if clave[i] == tabla[0][j]:\n",
    "                colm = j\n",
    "                break\n",
    "            else:\n",
    "                colm = 0\n",
    "\n",
    "        if(fila != 0 and colm != 0):\n",
    "            pal_encriptada = pal_encriptada + tabla[fila][colm]\n",
    "        else:\n",
    "            pal_encriptada = pal_encriptada + cadena[i]\n",
    "\n",
    "    dic[\"cadena\"] = pal_encriptada\n",
    "    dic[\"clave\"] = clave\n",
    "\n",
    "    return dic\n",
    "    \n",
    "    #for letra in cadena:\n",
    "\n",
    "def  decodificar_mensaje(cadena, clave):\n",
    "    # cadena = dic['cadena']\n",
    "    # clave = dic ['clave']\n",
    "    tabla = realizar_tabla_Vigenere()\n",
    "    cadena = cadena.upper()\n",
    "    pal_desencriptada = ''\n",
    "    fila = 0\n",
    "    colm = 0\n",
    "\n",
    "    for i in range(0,len(cadena),1):\n",
    "        for j in range(0,27,1):\n",
    "            if clave[i] == tabla[0][j]:\n",
    "                colm = j\n",
    "                break\n",
    "            else:\n",
    "                colm = 0\n",
    "        for j in range(1,27,1):\n",
    "            if cadena[i] == tabla[j][colm]:\n",
    "                fila = j\n",
    "                break\n",
    "            else:\n",
    "                fila = 0\n",
    "        \n",
    "        if(fila != 0):\n",
    "            pal_desencriptada = pal_desencriptada + tabla[fila][0]\n",
    "        else:\n",
    "            pal_desencriptada = pal_desencriptada + cadena[i]\n",
    "\n",
    "    return pal_desencriptada\n",
    "\n",
    "\n",
    "\n",
    "\n",
    "cadena = 'Papa'\n",
    "\n",
    "res = codificar_mensaje(cadena)\n",
    "\n",
    "print(f\"Cadena original: {cadena}\")\n",
    "print(\"La cadena codificada: \" + res[\"cadena\"])\n",
    "print(\"La clave generada es: \" + res[\"clave\"])\n",
    "\n",
    "palabra = decodificar_mensaje(res[\"cadena\"], res[\"clave\"])\n",
    "\n",
    "\n",
    "print(\"La palabra decodificada: {}\" .format(palabra))\n",
    "\n",
    "#for valor in var:\n",
    "#    print(valor)\n",
    "    \n",
    "\n"
   ]
  },
  {
   "cell_type": "markdown",
   "id": "a207d974",
   "metadata": {},
   "source": [
    "\n",
    "# Actividad: Diseñe y codifique una función.\n",
    "\n",
    "1. Diseñe una función que revise el contenido de una carpeta, la mision de esta funcion es revisar todas las carpetas existentes y obtener los nommbres de los archivos contenidos.\n",
    "2. Considere que dentro de cada carpete pueden existir otras carpetas.\n",
    "3. Todas las carpetas deben ser revisadas.\n",
    "4. Con la ejecucion de la siguiente celda se crearan las carpetas y los archivos.\n",
    "5. Es posible que debas considerar el uso de una función recursiva."
   ]
  },
  {
   "cell_type": "code",
   "execution_count": 3,
   "id": "b4ac1d5a",
   "metadata": {},
   "outputs": [
    {
     "ename": "FileExistsError",
     "evalue": "[WinError 183] Cannot create a file when that file already exists: 'Carpeta_principal'",
     "output_type": "error",
     "traceback": [
      "\u001b[1;31m---------------------------------------------------------------------------\u001b[0m",
      "\u001b[1;31mFileExistsError\u001b[0m                           Traceback (most recent call last)",
      "Cell \u001b[1;32mIn[3], line 13\u001b[0m\n\u001b[0;32m     10\u001b[0m \u001b[38;5;28;01mif\u001b[39;00m os\u001b[38;5;241m.\u001b[39mpath\u001b[38;5;241m.\u001b[39mexists(\u001b[38;5;124m\"\u001b[39m\u001b[38;5;124mCarpeta_principal\u001b[39m\u001b[38;5;124m\"\u001b[39m):\n\u001b[0;32m     11\u001b[0m     os\u001b[38;5;241m.\u001b[39msystem(\u001b[38;5;124mf\u001b[39m\u001b[38;5;124m'\u001b[39m\u001b[38;5;124mrm -r \u001b[39m\u001b[38;5;124m\"\u001b[39m\u001b[38;5;124mCarpeta_principal\u001b[39m\u001b[38;5;124m\"\u001b[39m\u001b[38;5;124m'\u001b[39m)\n\u001b[1;32m---> 13\u001b[0m \u001b[43mos\u001b[49m\u001b[38;5;241;43m.\u001b[39;49m\u001b[43mmkdir\u001b[49m\u001b[43m(\u001b[49m\u001b[38;5;124;43m\"\u001b[39;49m\u001b[38;5;124;43mCarpeta_principal\u001b[39;49m\u001b[38;5;124;43m\"\u001b[39;49m\u001b[43m)\u001b[49m\n\u001b[0;32m     14\u001b[0m \u001b[38;5;66;03m# Inicialización\u001b[39;00m\n\u001b[0;32m     18\u001b[0m \u001b[38;5;28;01mdef\u001b[39;00m \u001b[38;5;21mcrear_carpetas\u001b[39m(ruta_actual):\n",
      "\u001b[1;31mFileExistsError\u001b[0m: [WinError 183] Cannot create a file when that file already exists: 'Carpeta_principal'"
     ]
    }
   ],
   "source": [
    "import os\n",
    "import random\n",
    "\n",
    "def guardar_archivo(text_content, file_path):\n",
    "    with open(file_path, 'w') as file:\n",
    "        # Write the text content to the file\n",
    "        file.write(text_content)\n",
    "\n",
    "\n",
    "if os.path.exists(\"Carpeta_principal\"):\n",
    "    os.system(f'rm -r \"Carpeta_principal\"')\n",
    "\n",
    "os.mkdir(\"Carpeta_principal\")\n",
    "# Inicialización\n",
    "\n",
    "\n",
    "\n",
    "def crear_carpetas(ruta_actual):\n",
    "    global numeracion_del_archivo, numero_de_sub_carpetas\n",
    "    numero_de_archivos_o_carpetas = random.randint(0,15) # genración de numero aleatorio entre 0 y 15.\n",
    "    print(ruta_actual)\n",
    "    if numero_de_sub_carpetas < max_carpetas:\n",
    "        for n in range(0, numero_de_archivos_o_carpetas):\n",
    "\n",
    "            numero_aleatorio_2 = random.randint(0,2) # número aleatoria entre 0 y 1.\n",
    "            if numero_aleatorio_2 == 0:\n",
    "                os.mkdir(ruta_actual +'/'+ 'folder_{}'.format(n) )\n",
    "                print(ruta_actual +'/'+ 'folder_{}'.format(n))\n",
    "            else:\n",
    "                contenido_del_archivo = \"Contenido_{}\".format(numeracion_del_archivo)                \n",
    "                ruta_del_archivo = ruta_actual + '/' + \"archivo_{}.text\".format(numeracion_del_archivo)\n",
    "#                 print(\"ruta_del_archivo: \", ruta_del_archivo)\n",
    "                guardar_archivo(contenido_del_archivo, ruta_del_archivo)\n",
    "                numeracion_del_archivo += 1\n",
    "                \n",
    "        lista_de_nuevas_carpetas = [f.path for f in os.scandir(ruta_actual) if f.is_dir()] # Busqueda de nueva carpeta\n",
    "\n",
    "        numero_de_sub_carpetas += 1\n",
    "        for carpeta in lista_de_nuevas_carpetas:\n",
    "            crear_carpetas(carpeta)\n",
    "        \n",
    "max_carpetas = 4\n",
    "numeracion_del_archivo = 0\n",
    "numero_de_sub_carpetas = 0\n",
    "ruta_actual = \"Carpeta_principal\"\n",
    "crear_carpetas(ruta_actual)"
   ]
  },
  {
   "cell_type": "code",
   "execution_count": 4,
   "id": "a4f925a4",
   "metadata": {},
   "outputs": [
    {
     "name": "stdout",
     "output_type": "stream",
     "text": [
      "sem03_asin_Actividad_Capítulo_3.ipynb\n",
      "sem03_quiz_SIC_CP_Cap3_Función, clausura y clase.ipynb\n",
      "archivo_0.text\n",
      "archivo_1.text\n",
      "archivo_2.text\n",
      "archivo_3.text\n",
      "archivo_4.text\n",
      "archivo_5.text\n",
      "archivo_6.text\n",
      "archivo_7.text\n",
      "archivo_8.text\n",
      "archivo_9.text\n",
      "archivo_10.text\n",
      "archivo_11.text\n",
      "archivo_12.text\n",
      "archivo_13.text\n",
      "archivo_14.text\n",
      "archivo_15.text\n",
      "archivo_16.text\n",
      "archivo_17.text\n",
      "archivo_18.text\n",
      "archivo_19.text\n",
      "archivo_20.text\n"
     ]
    }
   ],
   "source": [
    "# Celda para desarrollar \n",
    "\n",
    "import os\n",
    "\n",
    "def obtener_carpetas(directorio):\n",
    "    carpetas = [nombre for nombre in os.listdir(directorio) if os.path.isdir(os.path.join(directorio, nombre))]\n",
    "    return carpetas\n",
    "\n",
    "def obtener_archivos(directorio):\n",
    "    dir = directorio + chr(92)\n",
    "    archivos_en_directorio = [nombre for nombre in os.listdir(directorio) if os.path.isfile(os.path.join(directorio, nombre))]\n",
    "    \n",
    "    for value in archivos_en_directorio:\n",
    "        print(value)\n",
    "    \n",
    "    carpetas = obtener_carpetas(directorio)\n",
    "\n",
    "    for value in carpetas:\n",
    "        obtener_archivos(dir + value)\n",
    "\n",
    "directorio_actual = os.getcwd()\n",
    "obtener_archivos(directorio_actual)\n"
   ]
  },
  {
   "cell_type": "markdown",
   "id": "26a6bb9e",
   "metadata": {},
   "source": [
    "# Actividad: Crear diccionarios y guardarlos como archivo JSON.\n",
    "\n",
    "De la unidad 11 sección 4.6 revise el ejemplo mostrado.\n",
    "\n",
    "Genera un diccionario, sobre la información que deseas guardar como base de datos, desarrollo el código necesario para generar el archivo JSON, y también el código para cargar la información del archivo JSON.\n"
   ]
  },
  {
   "cell_type": "code",
   "execution_count": 5,
   "id": "6670eace",
   "metadata": {},
   "outputs": [
    {
     "name": "stdout",
     "output_type": "stream",
     "text": [
      "Base de datos originarl: {'Nombre': 'Gabriel', 'Apellido': 'Castillo', 'Cedula': '8-983-7XX', 'Edad': '21'}\n",
      "Base de datos cargadas desde el Json: {'Nombre': 'Gabriel', 'Apellido': 'Castillo', 'Cedula': '8-983-7XX', 'Edad': '21'}\n"
     ]
    }
   ],
   "source": [
    "# Espacio para desarrollar el código siguiendo las instrucciones.\n",
    "\n",
    "import json\n",
    "\n",
    "def crear_json(nombre_doc, base_de_datos):\n",
    "    with open(nombre_doc + \".json\", 'w') as archivos:\n",
    "        json.dump(base_de_datos, archivos)\n",
    "\n",
    "def cargar_json(nombre_doc):\n",
    "    with open(nombre_doc + \".json\", 'r') as archivos:\n",
    "        datos_cargados = json.load(archivos)\n",
    "    return datos_cargados\n",
    "\n",
    "\n",
    "base_de_datos = {\"Nombre\":\"Gabriel\",\n",
    "                 \"Apellido\":\"Castillo\",\n",
    "                 \"Cedula\":\"8-983-7XX\",\n",
    "                 \"Edad\":\"21\"}\n",
    "\n",
    "base_de_datos_json = crear_json(\"Base_de_datos\", base_de_datos)\n",
    "\n",
    "base_de_datos_json = cargar_json(\"Base_de_datos\")\n",
    "\n",
    "print(\"Base de datos originarl: {}\" .format(base_de_datos))\n",
    "print(\"Base de datos cargadas desde el Json: {}\"  .format(base_de_datos_json))\n",
    "\n",
    "\n",
    "\n",
    "\n",
    "\n",
    "\n",
    "\n"
   ]
  },
  {
   "cell_type": "markdown",
   "id": "fbfb4985",
   "metadata": {},
   "source": [
    "# Actividad: Uso de la funcion Lambda.\n",
    "\n",
    "## Instrucciones\n",
    "\n",
    "1. Escriba una función regular donde se realice una operación.\n",
    "2. Escriba la misma función donde use la expresión lambda.\n",
    "3. Explica brevemente las ventajas de usar la función Lambda.\n"
   ]
  },
  {
   "cell_type": "code",
   "execution_count": 6,
   "id": "fc5b1a43",
   "metadata": {},
   "outputs": [
    {
     "name": "stdout",
     "output_type": "stream",
     "text": [
      "Utilizacion de la funcion regular: 13\n",
      "Utilizacion de la funcion lambda: 13\n"
     ]
    },
    {
     "data": {
      "text/plain": [
       "'La principal ventaja de utilizar la funcion lambda es tenemos una sintaxis sencilla,\\nes más conciso y pues las funciones lambda se orientan para realizar operaciones chicas o realizar tareas muy pequeñas.'"
      ]
     },
     "execution_count": 6,
     "metadata": {},
     "output_type": "execute_result"
    }
   ],
   "source": [
    "# Espacio para desarrollar el código siguiendo las instrucciones.\n",
    "\n",
    "#La funcion regular de suma\n",
    "def suma_Funcion (x, y):\n",
    "    return (x + y)\n",
    "\n",
    "#funcion lamnda de suma\n",
    "suma = lambda x, y : x + y\n",
    "\n",
    "\n",
    "x = 5\n",
    "y = 8\n",
    "\n",
    "print(\"Utilizacion de la funcion regular: \" + str(suma_Funcion(x, y)))\n",
    "print(\"Utilizacion de la funcion lambda: \" + str(suma(x, y)))\n",
    "\n",
    "#Expliaciones de la ventaja de usar la funcion lambda\n",
    "\n",
    "'''La principal ventaja de utilizar la funcion lambda es tenemos una sintaxis sencilla,\n",
    "es más conciso y pues las funciones lambda se orientan para realizar operaciones chicas o realizar tareas muy pequeñas.'''\n"
   ]
  },
  {
   "cell_type": "markdown",
   "id": "98938d2d",
   "metadata": {},
   "source": [
    "# Actividad: Usar la función map para duplicar el valor de cada uno de los elementos contenidos.\n",
    "\n",
    "## Instrucciones\n",
    "\n",
    "1. Describa brevemente el funcionamiento y las ventajas de usar la función map\n",
    "2. Escriba el código en el siguiente espacio."
   ]
  },
  {
   "cell_type": "code",
   "execution_count": 7,
   "id": "a35ef1b7",
   "metadata": {},
   "outputs": [
    {
     "name": "stdout",
     "output_type": "stream",
     "text": [
      "Lista original: [1, 2, 3, 4, 5, 6, 7, 8, 9, 10, 11, 12, 13, 14, 15, 16, 17, 18, 19, 20, 21, 22, 23, 24, 25, 26, 27, 28, 29, 30, 31, 32, 33, 34, 35, 36, 37, 38, 39, 40, 41, 42, 43, 44]\n",
      "Lista aplicando la funcion map: [2, 4, 6, 8, 10, 12, 14, 16, 18, 20, 22, 24, 26, 28, 30, 32, 34, 36, 38, 40, 42, 44, 46, 48, 50, 52, 54, 56, 58, 60, 62, 64, 66, 68, 70, 72, 74, 76, 78, 80, 82, 84, 86, 88]\n"
     ]
    }
   ],
   "source": [
    "# Espacio para desarrollar el código.\n",
    "\n",
    "''' La funcion map sirve para aplicar una operacion a cada elemento de una lista o array, \n",
    "la ventaja que ofrece maps es que se puede operar en un arreglo y lista sin necesidad de utilizar estructuras repetitivas '''\n",
    "\n",
    "lista = [] #Se crea la lista \n",
    "\n",
    "\n",
    "for i in range(1,45,1): #Se agrega los valores \n",
    "    lista.append(i)\n",
    "\n",
    "resultado = list(map(lambda x: x*2, lista)) # Utilizacion de la funcion maps \n",
    "\n",
    "#Impresion de resultados\n",
    "print(\"Lista original: {}\" .format(lista))\n",
    "print(\"Lista aplicando la funcion map: {}\" .format(resultado))\n",
    "\n"
   ]
  },
  {
   "cell_type": "code",
   "execution_count": null,
   "id": "beff7410",
   "metadata": {},
   "outputs": [],
   "source": []
  }
 ],
 "metadata": {
  "kernelspec": {
   "display_name": "Python_ds",
   "language": "python",
   "name": "python_ds"
  },
  "language_info": {
   "codemirror_mode": {
    "name": "ipython",
    "version": 3
   },
   "file_extension": ".py",
   "mimetype": "text/x-python",
   "name": "python",
   "nbconvert_exporter": "python",
   "pygments_lexer": "ipython3",
   "version": "3.9.7"
  }
 },
 "nbformat": 4,
 "nbformat_minor": 5
}
