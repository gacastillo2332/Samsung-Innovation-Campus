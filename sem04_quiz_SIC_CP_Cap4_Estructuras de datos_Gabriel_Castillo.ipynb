{
 "cells": [
  {
   "cell_type": "markdown",
   "id": "5d671b98",
   "metadata": {},
   "source": [
    "# Coding and Programming\n",
    "\n",
    "## Capítulo 4\n",
    "\n",
    "### Estructuras de Datos\n",
    "\n",
    "- **Unidad 17.** Pila\n",
    "- **Unidad 18.** Cola\n",
    "- **Unidad 19.** Búsqueda Binaria\n",
    "- **Unidad 20.** Tabla Hash\n",
    "\n",
    "# Quiz 4"
   ]
  },
  {
   "cell_type": "markdown",
   "id": "2e42031a",
   "metadata": {},
   "source": [
    "___"
   ]
  },
  {
   "cell_type": "markdown",
   "id": "33866775",
   "metadata": {},
   "source": [
    "## Q 22-01\n",
    "\n",
    "La siguiente es la implantación de una pila. ¿Cuál será el resultado del siguiente código?\n",
    "\n",
    "```\n",
    "stack = Stack()\n",
    "stack.push(\"Banana\")\n",
    "stack.push(\"Apple\")\n",
    "stack.push(\"Tomato\")\n",
    "stack.pop()\n",
    "stack.push(\"Strawberry\")\n",
    "stack.push(\"Grapes\")\n",
    "stack.pop()\n",
    "print(stack.stack)\n",
    "```\n",
    "\n",
    "**Respuesta:**"
   ]
  },
  {
   "cell_type": "markdown",
   "id": "81816b7e",
   "metadata": {},
   "source": [
    "El resultado de la pila al final del código es [\"Banana\",\"Apple\",\"Strawberry\"]\n",
    "\n",
    "Esto se debe a qué nosotros en la primera línea creamos la pila, luego en la línea 2 al 4 realizamos operaciones de push, agregando 3 elementos a la pila. Luego eliminamos el último elemento en la pila, que en ese momento es \"Tomato\", después de esto se realizan dos operaciones de push lo que nos agrega dos elementos a la pila. Y el siguiente paso es eliminar el último elemento colocado en la cima de la pila, el cual en ese momento es \"Grapes\". Dando como resultado está pila [\"Banana\",\"Apple\",\"Strawberry\"]"
   ]
  },
  {
   "cell_type": "markdown",
   "id": "2dbba0e2",
   "metadata": {},
   "source": [
    "___"
   ]
  },
  {
   "cell_type": "markdown",
   "id": "8d8ca892",
   "metadata": {},
   "source": [
    "## Q 22-02\n",
    "\n",
    "La siguiente es la implantación de una pila. ¿Cuál será el resultado del siguiente código?\n",
    "\n",
    "```\n",
    "stack = Stack()\n",
    "items = [10 * i for i in range(1,10)]\n",
    "for item in items:\n",
    "    stack.push(item)\n",
    "    if (item // 10) % 2 == 0:\n",
    "        stack.pop()\n",
    "print(stack.stack)\n",
    "```\n",
    "\n",
    "**Respuesta:**"
   ]
  },
  {
   "cell_type": "markdown",
   "id": "6cae5645",
   "metadata": {},
   "source": [
    "El resultado de la pila es: [10,30,50,70,90]\n",
    "\n",
    "Esto se debe a qué en el código se inicializa una lista llamada \"ítems\" que contiene los siguientes elementos [10,20,30,40,50,60,70,80,90]\n",
    "\n",
    "Una vez se inicializa se recorre todos los elementos de la lista, Y a medida que se recorre la lista se agregan a la pila, una vez agregado el elemento se divide por 10 y se evalúa si el residuo de división entre dos del resultado anterior es igual a 0 si esto se cumple ese elemento se saca de la pila y si no pues el elemento se queda en la pila. Dando como resultado está pila [10,30,50,70,90]"
   ]
  },
  {
   "cell_type": "markdown",
   "id": "9c101740",
   "metadata": {},
   "source": [
    "___"
   ]
  },
  {
   "cell_type": "markdown",
   "id": "490f04a8",
   "metadata": {},
   "source": [
    "## Q 23-01\n",
    "\n",
    "La siguiente es la implantación de una pila. ¿Cuál será el resultado del siguiente código?\n",
    "\n",
    "```\n",
    "queue = Queue()\n",
    "queue.enqueue(\"Banana\")\n",
    "queue.enqueue(\"Apple\")\n",
    "queue.enqueue(\"Tomato\")\n",
    "queue.dequeue()\n",
    "queue.enqueue(\"Strawberry\")\n",
    "queue.enqueue(\"Grapes\")\n",
    "queue.dequeue()\n",
    "print(queue.queue)\n",
    "```\n",
    "\n",
    "**Respuesta:**"
   ]
  },
  {
   "cell_type": "markdown",
   "id": "f4b7a1b4",
   "metadata": {},
   "source": [
    "La impresion de la cola al final del codigo da como resultado: [\"Tomato\",\"Strawberry\",\"Grapes\"]\n",
    "\n",
    "Explicación:\n",
    "\n",
    "Lo primero que se hace es crear la cola, luego se le agregan 3 elementos a la cola, despues de esto se elimina un elemento de la cola,\n",
    "como esta eliminacion se realiza por el inicio, se elimina el elemento \"Banana\". Despues de esto procedemos a agregar 2 elementos más a la cola,\n",
    "luego de esto procedemos a eliminar un elemento de la cola, en otras palabras se elimina el elemento \"Apple\", que es elemento que queda al inicio de la cola en ese momento. Por ultimo se imprimen todos los elementos de la cola y da como resultado la siguiente salida:  [\"Tomato\",\"Strawberry\",\"Grapes\"]"
   ]
  },
  {
   "cell_type": "markdown",
   "id": "4811d8fa",
   "metadata": {},
   "source": [
    "___"
   ]
  },
  {
   "cell_type": "markdown",
   "id": "680514b8",
   "metadata": {},
   "source": [
    "## Q 23-02\n",
    "\n",
    "La siguiente es la implantación de una cola. ¿Cuál será el resultado del siguiente código?\n",
    "\n",
    "```\n",
    "queue = Queue()\n",
    "items = [10 * i for i in range(1,10)]\n",
    "for item in items:\n",
    "    queue.enqueue(item)\n",
    "    if (item // 10) % 2 == 0:\n",
    "        queue.dequeue()\n",
    "print(queue.queue)\n",
    "```\n",
    "\n",
    "**Respuesta:**"
   ]
  },
  {
   "cell_type": "markdown",
   "id": "d1399404",
   "metadata": {},
   "source": [
    "El resultado de la cola es: [50,60,70,80,90]\n",
    "\n",
    "Esto se debe a qué en el código se inicializa una lista llamada \"ítems\" que contiene los siguientes elementos [10,20,30,40,50,60,70,80,90]\n",
    "\n",
    "Una vez se inicializa se recorre todos los elementos de la lista, Y a medida que se recorre la lista se agregan a la cola, una vez agregado el elemento se divide por 10 y se evalúa si el residuo de división entre dos del resultado anterior es igual a 0. si esto se cumple, un elemento se saca de la cola y si no pues no pasa nada con la cola. En nuestro caso existen 4 numeros que cumplen con la anterior condicion asi que existiran 4 extracciones en la cola, y como esta estracciones se realizan por el inicio  se eliminan los 4 primeros elementos de nuestra cola. Dando como resultado está cola [50,60,70,80,90]"
   ]
  },
  {
   "cell_type": "markdown",
   "id": "b16e0741",
   "metadata": {},
   "source": [
    "___"
   ]
  },
  {
   "cell_type": "markdown",
   "id": "5f2fe9e8",
   "metadata": {},
   "source": [
    "## Q 24-01\n",
    "\n",
    "¿Cuál es el algoritmo de la siguiente función `find_two()`?\n",
    "```\n",
    "def find_two():\n",
    "    x = y = 0\n",
    "    for i in range(1, len(nums)):\n",
    "        if nums[x] < nums[i]:\n",
    "            x = i\n",
    "        elif nums[y] > nums[i]:\n",
    "            y = i\n",
    "    return x,y\n",
    "\n",
    "nums = [11, 37, 45, 26, 59, 28, 17, 53]\n",
    "i,j = find_two(nums)\n",
    "print(nums[i], nums[j])\n",
    "```\n",
    "Analice el código y escriba el resultado de la ejecución."
   ]
  },
  {
   "cell_type": "code",
   "execution_count": 19,
   "id": "bf72c65e",
   "metadata": {},
   "outputs": [
    {
     "name": "stdout",
     "output_type": "stream",
     "text": [
      "59 11\n"
     ]
    }
   ],
   "source": [
    "def find_two(nums):\n",
    "    x = y = 0\n",
    "    cont = 0\n",
    "    for i in range(1, len(nums)):\n",
    "        if nums[x] < nums[i]:\n",
    "            x = i\n",
    "        elif nums[y] > nums[i]:\n",
    "            y = i\n",
    "    return x,y\n",
    "\n",
    "nums = [11, 37, 45, 26, 59, 28, 17, 53]\n",
    "i,j = find_two(nums)\n",
    "print(nums[i], nums[j])"
   ]
  },
  {
   "cell_type": "markdown",
   "id": "0407f911",
   "metadata": {},
   "source": [
    "Resultado de la eejecución: 59 11\n",
    "\n",
    "Este resultado se debe a que en la funcion find_two() lo que se hace es recorrer la lista de numeros proporcionado por parametro en la funcion. A la variable local \"x\" se le asigna el indice del numero más grande de la lista, y a la variable local \"y\" se le asigna el indice del numero más pequeño de la lista. Estos dos valores son retornados a la funcion main del programa.\n",
    "\n",
    "Nota: Se asume que se les olvido colocar el parametro \"nums\" en la funcion, sin este parametro habria un error en el codigo y la anterior respuesta seria invalidada."
   ]
  },
  {
   "cell_type": "markdown",
   "id": "bba31171",
   "metadata": {},
   "source": [
    "___"
   ]
  },
  {
   "cell_type": "markdown",
   "id": "36e47747",
   "metadata": {},
   "source": [
    "## Q 24-02\n",
    "\n",
    "¿Cuántas comparaciones debe realizar la función `find_two()` implementada en la pregunta anterior (24-01)?"
   ]
  },
  {
   "cell_type": "markdown",
   "id": "560f7505",
   "metadata": {},
   "source": [
    "Existen 11 comparaciones "
   ]
  },
  {
   "cell_type": "markdown",
   "id": "976b7b8e",
   "metadata": {},
   "source": [
    "___"
   ]
  },
  {
   "cell_type": "markdown",
   "id": "9fffd532",
   "metadata": {},
   "source": [
    "## Q 25-01\n",
    "\n",
    "El siguiente es el código para el juego de combinación de números.\n",
    "\n",
    "Si el máximo es 100 y el número es 51, ¿cuál es la salida de `count`?\n",
    "```\n",
    "from random import randint\n",
    "\n",
    "maximo = int(input(\"Ingrese el número maximo: \"))\n",
    "numero = int(input(\"Ingrese tu intento de adivinar el numero: \"))\n",
    "low, high = 1, maximo\n",
    "count = 0\n",
    "while low < high:\n",
    "    count += 1\n",
    "    mid = (low + high) // 2\n",
    "    if mid == numero:\n",
    "        print(f\"El número es {numero}\")\n",
    "        break\n",
    "    elif mid > numero:\n",
    "        high = mid - 1\n",
    "    else:\n",
    "        low  = mid + 1\n",
    "\n",
    "print(f\"Total {count} veces fue buscado.\")\n",
    "```"
   ]
  },
  {
   "cell_type": "markdown",
   "id": "2a351b8a",
   "metadata": {},
   "source": [
    "La salida del count es de: 6"
   ]
  },
  {
   "cell_type": "markdown",
   "id": "c29e1c0c",
   "metadata": {},
   "source": [
    "___"
   ]
  },
  {
   "cell_type": "markdown",
   "id": "c185d96c",
   "metadata": {},
   "source": [
    "## Q 25-02\n",
    "\n",
    "En el código del juego de combinación de números, si el máximo es 100 y el número es 25, ¿cuál es el resultado del conteo?"
   ]
  },
  {
   "cell_type": "markdown",
   "id": "27353ddf",
   "metadata": {},
   "source": [
    "El resultado del conteo es de: 2. "
   ]
  },
  {
   "cell_type": "markdown",
   "id": "662d5bfd",
   "metadata": {},
   "source": [
    "___"
   ]
  },
  {
   "cell_type": "markdown",
   "id": "eb266a1e",
   "metadata": {},
   "source": [
    "## Q 26-01\n",
    "\n",
    "Usando la función hash de la clase HashTable, calcule la clave y la clave hash de \"Alicia en el país de las maravillas\" de la siguiente manera. (El valor clave es 1763.)\n",
    "```\n",
    "table = HashTable(8)\n",
    "book  = \"Alice in Wonderland\"\n",
    "key = sum(map(ord, book))\n",
    "print(key, table.hash(key))\n",
    "```"
   ]
  },
  {
   "cell_type": "markdown",
   "id": "4ed48ef3",
   "metadata": {},
   "source": [
    "El valor de la clave es: 1795\n",
    "El valor de la clave hash es: 3"
   ]
  },
  {
   "cell_type": "markdown",
   "id": "6ef27d31",
   "metadata": {},
   "source": [
    "___"
   ]
  },
  {
   "cell_type": "markdown",
   "id": "d4fd6f63",
   "metadata": {},
   "source": [
    "## Q 26-02\n",
    "\n",
    "Si la nueva estantería tiene 10 compartimentos, usa el siguiente código para averiguar qué libro hay en cada compartimento.\n",
    "```\n",
    "table = HashTable(10)\n",
    "books = [\n",
    "    \"The Little Prince\",\n",
    "    \"The Old Man and the Sea\",\n",
    "    \"The Little Memaid\",\n",
    "    \"Beauty and the Beast\",\n",
    "    \"The Last Leaf\",\n",
    "    \"Alice in Wonderland\",\n",
    "]\n",
    "\n",
    "for book in books:\n",
    "    key = sum(map(ord, book))\n",
    "    table.put(key, book)\n",
    "\n",
    "for key in table.table.key():\n",
    "    print(key, table.table[key])\n",
    "```"
   ]
  },
  {
   "cell_type": "markdown",
   "id": "f549a890",
   "metadata": {},
   "source": [
    "0 []\n",
    "\n",
    "1 []\n",
    "\n",
    "2 []\n",
    "\n",
    "3 [\"The Last Leaf\"]\n",
    "\n",
    "4 [\"The Little Prince\", \"The Little Memaid\"]\n",
    "\n",
    "5 [\"Alice in Wonderland\"]\n",
    "\n",
    "6 []\n",
    "\n",
    "7 [\"Beauty and the Beast\"]\n",
    "\n",
    "8 []\n",
    "\n",
    "9 [\"The Old Man and the Sea\"]"
   ]
  },
  {
   "cell_type": "markdown",
   "id": "574b1c0f",
   "metadata": {},
   "source": [
    "___"
   ]
  },
  {
   "cell_type": "markdown",
   "id": "7f165fb5",
   "metadata": {},
   "source": [
    "# Fin"
   ]
  }
 ],
 "metadata": {
  "kernelspec": {
   "display_name": "Python 3 (ipykernel)",
   "language": "python",
   "name": "python3"
  },
  "language_info": {
   "codemirror_mode": {
    "name": "ipython",
    "version": 3
   },
   "file_extension": ".py",
   "mimetype": "text/x-python",
   "name": "python",
   "nbconvert_exporter": "python",
   "pygments_lexer": "ipython3",
   "version": "3.9.7"
  }
 },
 "nbformat": 4,
 "nbformat_minor": 5
}
