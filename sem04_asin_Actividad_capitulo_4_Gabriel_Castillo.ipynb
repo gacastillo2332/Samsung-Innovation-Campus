{
 "cells": [
  {
   "cell_type": "markdown",
   "id": "5d671b98",
   "metadata": {},
   "source": [
    "# Actividades Capítulo 4 - Estructuras de Datos\n",
    "\n",
    "Resumen de la actividad.\n",
    "\n",
    "\n",
    "- **1. Pilas y Colas**\n",
    "  - Actividad 1.2 - Implementar una Cola\n",
    "\n",
    "\n",
    "- **2. Búsqueda Secuencial**\n",
    "  - Actividad 2.1 - Búsqueda en una Lista\n",
    "\n",
    "\n",
    "- **3. Búsqueda Binaria**\n",
    "  - Actividad 3.1 - Búsqueda Binaria\n",
    "\n",
    "\n",
    "- **4. Tablas Hash**\n",
    "  - Actividad 4.1 - Implementar una Tabla Hash"
   ]
  },
  {
   "cell_type": "markdown",
   "id": "33866775",
   "metadata": {},
   "source": [
    "# Actividad: Implementación de una Pila en Python\n",
    "\n",
    "En esta actividad, tendrás la oportunidad de aplicar tus conocimientos sobre estructuras de datos y programación en Python para implementar una pila (stack). Una pila es una estructura de datos que sigue el principio \"Last-In-First-Out\" (LIFO), lo que significa que el último elemento que se agrega es el primero en ser eliminado.\n",
    "\n",
    "## Resumen:\n",
    "\n",
    "- **stack** = [ ]  # Recordando que una pila es básicamente una lista.\n",
    "- **append**: Método utilizado para agregar un elemento a la lista.\n",
    "- **pop**: Método usado para eliminar elementos de la lista, sino se especifica el índice se elimina el último elemento y retorna la lista resultante."
   ]
  },
  {
   "cell_type": "code",
   "execution_count": 39,
   "id": "fbb2dca1",
   "metadata": {},
   "outputs": [
    {
     "name": "stdout",
     "output_type": "stream",
     "text": [
      "{'Z': ['Zacarías', 'Zoe', 'Zaira'], 'Y': ['Yenny', 'Yolanda'], 'X': ['Xavier', 'Ximena'], 'V': ['Verónica', 'Víctor'], 'T': ['Teresa', 'Tomás'], 'S': ['Silvia', 'Sergio', 'Sara'], 'R': ['Rosario', 'Roberto', 'Renata', 'Rafael', 'Raquel'], 'P': ['Pedro', 'Paula', 'Pablo'], 'O': ['Olivia'], 'Ó': ['Óscar'], 'N': ['Nora', 'Nicolás', 'Natalia'], 'M': ['Miguel', 'María', 'Manuel'], 'L': ['Lorena', 'Lucía', 'Luis'], 'J': ['Juan'], 'I': ['Isabel'], 'H': ['Hugo'], 'G': ['Gabriela'], 'F': ['Fernando'], 'E': ['Elena'], 'D': ['David'], 'C': ['Carlos'], 'A': ['Ana']}\n",
      "[]\n"
     ]
    }
   ],
   "source": [
    "nombres_aleatorios = [\"Ana\", \"Carlos\", \"David\", \"Elena\", \"Fernando\", \"Gabriela\",\n",
    "                      \"Hugo\", \"Isabel\", \"Juan\", \"Luis\", \"Lucía\",\n",
    "                      \"Lorena\", \"Manuel\", \"María\", \"Miguel\", \"Natalia\",\n",
    "                      \"Nicolás\", \"Nora\", \"Óscar\", \"Olivia\", \"Pablo\", \"Paula\",\n",
    "                      \"Pedro\", \"Raquel\", \"Rafael\", \"Renata\", \"Roberto\", \"Rosario\",\n",
    "                      \"Sara\", \"Sergio\", \"Silvia\", \"Tomás\", \"Teresa\", \"Víctor\", \"Verónica\",\n",
    "                      \"Ximena\", \"Xavier\", \"Yolanda\", \"Yenny\", \"Zaira\", \"Zoe\", \"Zacarías\"]\n",
    "\n",
    "# Generar un código para revisar los nombres contenidos en la lista, y guardarlos en diferentes listas,\n",
    "# de acuerdo a la inicial del nombre, use los comandos usandos antenirmente y barra los elementos usando \n",
    "# el comando \"for nombre in nombres_aleatorios:\" al final del proceso la lista inicial debe quedar vacia.\n",
    "\n",
    "listas_por_letras = {}\n",
    "\n",
    "while len(nombres_aleatorios) != 0:\n",
    "    nombre = nombres_aleatorios.pop()\n",
    "    \n",
    "    if nombre[0] in list(listas_por_letras.keys()):\n",
    "        lista = listas_por_letras[nombre[0]]\n",
    "        lista.append(nombre)\n",
    "    else:\n",
    "        listas_por_letras[nombre[0]] = list()\n",
    "        listas_por_letras[nombre[0]].append(nombre)\n",
    "\n",
    "print(listas_por_letras)\n",
    "print(nombres_aleatorios)\n",
    "\n",
    "for nombre in nombres_aleatorios:\n",
    "    print(nombre)\n"
   ]
  },
  {
   "cell_type": "markdown",
   "id": "490f04a8",
   "metadata": {},
   "source": [
    "# Actividad: Replique el código, mostrado en la presentación 36 correspondiente al capítulo 4.\n",
    "\n",
    "En este codódigo se muestra la creación de una clasa para crear una pila y hacer las actividades básicas correspondientes.\n",
    "\n",
    "- **__init__**: Creación de la pila.\n",
    "- **is_empty**: Verificación si la pila está vacia.\n",
    "- **push**: agregar elemento a la pila\n",
    "- **pop**:si la pila no está vacia eliminar el último de elemento.\n",
    "\n",
    "Use la notación mostrada en la presentacion 40, realice varias operaciones y comente brevemente los resultados (máximo 3 lineas), antes de pasar a la siguiente actividad asegurese de entender completamente la notación utilizada."
   ]
  },
  {
   "cell_type": "code",
   "execution_count": 40,
   "id": "950d71ca",
   "metadata": {},
   "outputs": [
    {
     "name": "stdout",
     "output_type": "stream",
     "text": [
      "Esta vacio la pila: Si\n",
      "No\n",
      "Se elimina el elemento: Castillo de  la pila.\n",
      "Se elimina el elemento: Gabriel de  la pila.\n",
      "Esta vacio la pila: Si\n"
     ]
    }
   ],
   "source": [
    "# Escriba su código en está celda y todos los comentarios necesarios en la misma celda.\n",
    "''' En este codigo se crea la clase para replicar el funcionamiento de una pila, el mismo consta de un constructor que crea la lista,\n",
    "luego de un metodo is_empty que se encargara de verificar si la pila esta vacia si esto es cierto devolvera true y si es falso devolvera el valor booleano false,\n",
    "tambien consta del metodo push que se encargara de introducir valores a nuestra pila, y de forma cotraria tenemos el metodo pop que sirve para eliminar valores de la pila. '''\n",
    "class Stack:\n",
    "\n",
    "    def __init__(self):\n",
    "        self.stack = []\n",
    "\n",
    "    def is_empty(self):\n",
    "        return True if len(self.stack) == 0 else False\n",
    "    \n",
    "    def push(self, item):\n",
    "        self.stack.append(item)\n",
    "    \n",
    "    def pop(self):\n",
    "        return None if self.is_empty() else self.stack.pop()\n",
    "\n",
    "pila = Stack()\n",
    "\n",
    "#Se verifica que la pila este vacia\n",
    "print(\"Esta vacio la pila: \" + \"Si\" if pila.is_empty() == True else \"No\")\n",
    "\n",
    "#Se agregan elementos en la pila\n",
    "pila.push(\"Gabriel\")\n",
    "pila.push(\"Castillo\")\n",
    "\n",
    "#se verifica que la pila No este vacia debido a que se agregaron elementos\n",
    "print(\"Esta vacio la pila: \" + \"Si\" if pila.is_empty() == True else \"No\")\n",
    "\n",
    "#se eliminan elementos de la pila, lo cual devolvera el elemento eliminado lo cuales seran utilizados para mostrar con un print\n",
    "print(\"Se elimina el elemento: \" + str(pila.pop()) + \" de  la pila.\")\n",
    "print(\"Se elimina el elemento: \" + str(pila.pop()) + \" de  la pila.\")\n",
    "\n",
    "#se verifica que la pila este vacia debido a que eliminamos todos los elementos\n",
    "print(\"Esta vacio la pila: \" + \"Si\" if pila.is_empty() == True else \"No\")\n"
   ]
  },
  {
   "cell_type": "markdown",
   "id": "5f2fe9e8",
   "metadata": {},
   "source": [
    "# Actividad: Búsqueda secuencial.\n",
    "\n",
    "Se tiene una lista de 10 ciudades organizadas en función de la densidad de población, escriba una función para retornar la posición ocupada.\n"
   ]
  },
  {
   "cell_type": "code",
   "execution_count": 18,
   "id": "dec8954f",
   "metadata": {},
   "outputs": [
    {
     "name": "stdout",
     "output_type": "stream",
     "text": [
      "4\n"
     ]
    }
   ],
   "source": [
    "ciudades = [\n",
    "    \"Daca, Bangladés\",\n",
    "    \"Karachi, Pakistán\",\n",
    "    \"Nueva Delhi, India\",\n",
    "    \"Manila, Filipinas\",\n",
    "    \"Seúl, Corea del Sur\",\n",
    "    \"Cantón, China\",\n",
    "    \"Taipéi, Taiwán\",\n",
    "    \"Chenaral, Chile\",\n",
    "    \"Shenzhen, China\",\n",
    "    \"Bombay, India\"\n",
    "]\n",
    "\n",
    "def obtener_posicion(ciudades, ciudad):\n",
    "    # Espaciós para desarrollar el código\n",
    "    \n",
    "    for i in range(len(ciudades)):\n",
    "        if ciudad == ciudades[i]:\n",
    "            posicion = i\n",
    "            break\n",
    "        else:\n",
    "            posicion = None\n",
    "    \n",
    "    return posicion\n",
    "\n",
    "posicion_ocupada = obtener_posicion(ciudades,\"Seúl, Corea del Sur\")\n",
    "print(posicion_ocupada)"
   ]
  },
  {
   "cell_type": "markdown",
   "id": "9fffd532",
   "metadata": {},
   "source": [
    "# Actividad: Búsqueda binaria.\n",
    "\n",
    "- Escriba al menos una ventaja de la busqueda binaria.\n",
    "- Replique el código mostrado en la presentación 192.\n",
    "- Explique brevemente el funcionamiento del código, maximo 3 lineas.\n",
    "- Ingrese un piso de ruptura del huevo y calcule cuantas veces se realiza la revisión para encontrar el piso seguro.(Se puede agrear algún contador dentro del código para verificar)\n"
   ]
  },
  {
   "cell_type": "code",
   "execution_count": 24,
   "id": "bdc866e2",
   "metadata": {},
   "outputs": [
    {
     "name": "stdout",
     "output_type": "stream",
     "text": [
      "\n",
      "Numero de revisiones: 4\n",
      "\n",
      "El piso seguro es: 6\n"
     ]
    }
   ],
   "source": [
    "# Espacio para replicar el código.\n",
    "\n",
    "def do_experiment(floor, breaking):\n",
    "    return floor >= breaking\n",
    "\n",
    "def find_highest_safe_floor2(height, breaking):\n",
    "    low, high = 1, height\n",
    "    cont = 0\n",
    "\n",
    "    while low < high:\n",
    "        cont = cont + 1\n",
    "        mid = (low + high) // 2\n",
    "\n",
    "        if do_experiment(mid, breaking):\n",
    "            high = mid\n",
    "        else:\n",
    "            low = mid + 1\n",
    "\n",
    "    print(\"\\nNumero de revisiones: \" + str(cont))   \n",
    "    return low - 1\n",
    "\n",
    "\n",
    "# Espacio para explicar funcionamiento.\n",
    "\n",
    "#Ventajas de la busqueda binaria: La búsqueda binaria es eficiente en tiempo de ejecución principalmente debido a que reduce el espacio de búsqueda a la mitad en cada iteración.\n",
    "\n",
    "'''En el codigo de la caida del huevo se nos explica como funciona la busqueda binaria teniendo los parametros bajo y alto que en la busqueda binaria se asemejan al min y max,\n",
    "en el codigo se va a buscar el piso mas alto de la cual se pueda tirar un huevo sin romperse, esto se hara por medio de promediar low y high si este promedio supera el valor de altura de ruptura del huevo\n",
    "entonces a high se le asignara el valor promediado en caso contrario si no se cumple a low se le asignara el valor promediado más uno y esto se relizara ciclicamente hasta que low sea iguale o sea mayor que high y esta funcion retornara el valor de low - 1'''\n",
    "\n",
    "# Cálculo y verificación del número de veces que se realiza la verificación.\n",
    "\n",
    "n_pisos = int(input(\"Introduce el numero de pisos: \"))\n",
    "n_de_ruptura = int (input(\"\\nInroduce el numero del piso donde se rompe: \"))\n",
    "\n",
    "piso_seguro = find_highest_safe_floor2(n_pisos,n_de_ruptura)\n",
    "\n",
    "print(\"\\nEl piso seguro es: \" + str(piso_seguro))"
   ]
  },
  {
   "cell_type": "markdown",
   "id": "eb266a1e",
   "metadata": {},
   "source": [
    "# Actividad: Definir una tabla Hash tipo diccionario.\n",
    "\n",
    "En la siguiente celda se muestrar como crear un diccionario, como agregar elementos, como eliminar elementos,\n",
    "como verificar si la key existe en el diccionario, basados en este código agregue otros elementos, comente los resultados, si tienes alguna duda también la puedes escribir. (Use máximo 3 líneas en la explicación)\n"
   ]
  },
  {
   "cell_type": "code",
   "execution_count": 27,
   "id": "f48163a5",
   "metadata": {},
   "outputs": [
    {
     "name": "stdout",
     "output_type": "stream",
     "text": [
      "Nombre: Juan\n",
      "Apellido:  Gabriel\n",
      "Edad: 30\n",
      "Ciudad: Nueva York\n",
      "Edad modificada: 31\n",
      "Ciudad modificada: Ciudad de Mexico\n",
      "La clave 'ciudad' no está en el diccionario.\n"
     ]
    }
   ],
   "source": [
    "''' En este codigo se utiliza un diccionario para emular una tabla hash, \n",
    "en el mismo se muestra como eliminar las claves como modificar valores de las claves, \n",
    "y como crear nuevas claves y asignarle valores'''\n",
    "\n",
    "\n",
    "# Crear un diccionario vacío\n",
    "mi_diccionario = {}\n",
    "\n",
    "# Agregar elementos al diccionario\n",
    "mi_diccionario[\"nombre\"] = \"Juan\"\n",
    "mi_diccionario[\"apellido\"] = \"Gabriel\" \n",
    "mi_diccionario[\"edad\"] = 30\n",
    "mi_diccionario[\"ciudad\"] = \"Nueva York\"\n",
    "\n",
    "\n",
    "# Acceder a los valores por clave\n",
    "print(\"Nombre:\", mi_diccionario[\"nombre\"])\n",
    "print(\"Apellido: \", mi_diccionario[\"apellido\"])\n",
    "print(\"Edad:\", mi_diccionario[\"edad\"])\n",
    "print(\"Ciudad:\", mi_diccionario[\"ciudad\"])\n",
    "\n",
    "# Modificar un valor existente\n",
    "mi_diccionario[\"edad\"] = 31\n",
    "mi_diccionario[\"ciudad\"] = \"Ciudad de Mexico\"\n",
    "\n",
    "\n",
    "#Verificamos que se modifico los datos\n",
    "print(\"Edad modificada:\", mi_diccionario[\"edad\"])\n",
    "print(\"Ciudad modificada:\", mi_diccionario[\"ciudad\"])\n",
    "\n",
    "# Eliminar un elemento del diccionario\n",
    "del mi_diccionario[\"ciudad\"]\n",
    "\n",
    "# Verificar si una clave existe en el diccionario\n",
    "if \"ciudad\" in mi_diccionario:\n",
    "    print(\"La clave 'ciudad' está en el diccionario.\")\n",
    "else:\n",
    "    print(\"La clave 'ciudad' no está en el diccionario.\")\n",
    "\n",
    "\n"
   ]
  }
 ],
 "metadata": {
  "kernelspec": {
   "display_name": "Python 3",
   "language": "python",
   "name": "python3"
  },
  "language_info": {
   "codemirror_mode": {
    "name": "ipython",
    "version": 3
   },
   "file_extension": ".py",
   "mimetype": "text/x-python",
   "name": "python",
   "nbconvert_exporter": "python",
   "pygments_lexer": "ipython3",
   "version": "3.9.7"
  }
 },
 "nbformat": 4,
 "nbformat_minor": 5
}
