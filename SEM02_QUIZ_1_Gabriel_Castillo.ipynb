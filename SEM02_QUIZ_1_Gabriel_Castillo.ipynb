{
 "cells": [
  {
   "cell_type": "markdown",
   "id": "5ad8356f",
   "metadata": {},
   "source": [
    "# Coding and Programming\n",
    "\n",
    "## Capítulo 2\n",
    "\n",
    "### Programación básica de python - Secuencia de datos escrita en python\n",
    "\n",
    "- **Unidad 10.** Tipos de datos lista y tupla Tipos de datos lista y tupla\n",
    "- **Unidad 11.** Tipos de datos de diccionario Tipos de datos de diccionario\n",
    "- **Unidad 12.** Tipos de datos de secuencia\n",
    "- **Unidad 13.** Listas 2D\n",
    "- **Unidad 14.** Método del diccionario-1\n",
    "- **Unidad 15.** Método del diccionario-2\n",
    "- **Unidad 16.** Establecer tipos de datos\n",
    "\n",
    "# Quiz 2"
   ]
  },
  {
   "cell_type": "markdown",
   "id": "d390681d",
   "metadata": {},
   "source": [
    "___"
   ]
  },
  {
   "cell_type": "markdown",
   "id": "8c5aa9c8",
   "metadata": {},
   "source": [
    "## Q 10-01\n",
    "\n",
    "Si hay dos listas `l1` y `l2` con las siguientes cadenas, use la combinación de `l1` y `l2` para imprimir de la siguiente manera.\n",
    "\n",
    "**Pauta de codificación:** use bucles anidados e imprímalos.\n",
    "\n",
    "```\n",
    "l1 = ['I like','I love']\n",
    "l1 = ['pancake.','kiwi juice.','espresso.']\n",
    "```\n",
    "\n",
    "### Output\n",
    "```\n",
    "I like pancake.\n",
    "I like kiwi juice.\n",
    "I like espresso.\n",
    "I love pancake.\n",
    "I love kiwi juice.\n",
    "I love espresso.\n",
    "```"
   ]
  },
  {
   "cell_type": "code",
   "execution_count": 3,
   "id": "397b117c",
   "metadata": {},
   "outputs": [
    {
     "name": "stdout",
     "output_type": "stream",
     "text": [
      "I like pancake.\n",
      "I like kiwi juice.\n",
      "I like espresso.\n",
      "I love pancake.\n",
      "I love kiwi juice.\n",
      "I love espresso.\n"
     ]
    }
   ],
   "source": [
    "l1 = ['I like','I love']\n",
    "l2 = ['pancake.','kiwi juice.','espresso.']\n",
    "\n",
    "for valuel1 in l1:\n",
    "    for valuel2 in l2:\n",
    "        print(\"{} {}\".format(valuel1, valuel2))"
   ]
  },
  {
   "cell_type": "markdown",
   "id": "e85ac74a",
   "metadata": {},
   "source": [
    "___"
   ]
  },
  {
   "cell_type": "markdown",
   "id": "56dfda7c",
   "metadata": {},
   "source": [
    "## Q 11-01\n",
    "\n",
    "El diccionario de personas se define de la siguiente manera.\n",
    "\n",
    "Agregue un nuevo elemento a este diccionario de personas con la clave 'Padre' y el valor 'John Doe'.\n",
    "\n",
    "**Pauta de codificación:** después de definir el diccionario de personas, escriba el código para agregar nuevos elementos.\n",
    "\n",
    "`person = {'Name':'David Doe', 'Age':26, 'Weight':82, 'Job':'Data Scientist'}`"
   ]
  },
  {
   "cell_type": "code",
   "execution_count": 6,
   "id": "77e2c2e9",
   "metadata": {},
   "outputs": [
    {
     "name": "stdout",
     "output_type": "stream",
     "text": [
      "Diccionario antes de adicionarle el nuevo elemento:  dict_items([('Name', 'David Doe'), ('Age', 26), ('Weight', 82), ('Job', 'Data Scientist')])\n",
      "Diccionario despues de adicionarle el nuevo elemento:  dict_items([('Name', 'David Doe'), ('Age', 26), ('Weight', 82), ('Job', 'Data Scientist'), ('padre', 'John Doe')])\n"
     ]
    }
   ],
   "source": [
    "person = {'Name':'David Doe', 'Age':26, 'Weight':82, 'Job':'Data Scientist'}\n",
    "\n",
    "print(\"Diccionario antes de adicionarle el nuevo elemento: \",person.items())\n",
    "\n",
    "person.update({'padre':'John Doe'})\n",
    "\n",
    "print(\"Diccionario despues de adicionarle el nuevo elemento: \",person.items())\n"
   ]
  },
  {
   "cell_type": "markdown",
   "id": "d24e8e2d",
   "metadata": {},
   "source": [
    "___"
   ]
  },
  {
   "cell_type": "markdown",
   "id": "6e95c374",
   "metadata": {},
   "source": [
    "## Q 12-01\n",
    "\n",
    "Al usar datos de tupla, los valores de dos variables se pueden intercambiar sin usar una variable temporal. Usando este método de intercambio, escriba un programa que reemplace el valor más grande de 12 en la lista dada, y pase a la posición del último.\n",
    "\n",
    "**Pauta de codificación:** use un bucle `for`. Al intercambiar valores en una lista, no se deben usar variables adicionales como temp.\n",
    "\n",
    "`lista = [5,6,3,9,2,12,3,8,7]`"
   ]
  },
  {
   "cell_type": "code",
   "execution_count": 8,
   "id": "bf344ab1",
   "metadata": {},
   "outputs": [
    {
     "name": "stdout",
     "output_type": "stream",
     "text": [
      "[5, 6, 3, 9, 2, 7, 3, 8, 12]\n"
     ]
    }
   ],
   "source": [
    "lista = [5,6,3,9,2,12,3,8,7]\n",
    "\n",
    "for value in lista:\n",
    "    if value == max(lista):\n",
    "        lista[lista.index(value)] = lista[len(lista)-1]\n",
    "        lista[len(lista)-1] = value\n",
    "print(lista)"
   ]
  },
  {
   "cell_type": "markdown",
   "id": "66002865",
   "metadata": {},
   "source": [
    "___"
   ]
  },
  {
   "cell_type": "markdown",
   "id": "abff5088",
   "metadata": {},
   "source": [
    "## Q 13-01\n",
    "\n",
    "La matriz bidimensional `a` contiene los valores `[[1, 2], [3, 4], [5, 6]]`.\n",
    "\n",
    "Cambie esta matriz bidimensional a una matriz unidimensional como `[1, 2, 3, 4, 5, 6]` e imprímala.\n",
    "\n",
    "\n",
    "**Pauta de codificación:** use un bucle `for`. Defina una nueva matriz y coloque los elementos de a en esta matriz."
   ]
  },
  {
   "cell_type": "code",
   "execution_count": 12,
   "id": "142f3256",
   "metadata": {},
   "outputs": [
    {
     "name": "stdout",
     "output_type": "stream",
     "text": [
      "[1, 2, 3, 4, 5, 6]\n"
     ]
    }
   ],
   "source": [
    "matriz_bi = [[1, 2], [3, 4], [5, 6]]\n",
    "matriz_uni = []\n",
    "\n",
    "for i in range(0,len(matriz_bi)):\n",
    "    matriz_uni = matriz_uni + matriz_bi[i]\n",
    "    \n",
    "print(matriz_uni)\n",
    "\n"
   ]
  },
  {
   "cell_type": "markdown",
   "id": "1061ef6e",
   "metadata": {},
   "source": [
    "___"
   ]
  },
  {
   "cell_type": "markdown",
   "id": "74144e33",
   "metadata": {},
   "source": [
    "## Q 14-01\n",
    "\n",
    "Dada un diccionario en la variable **maria** que contiene las puntuaciones de los cursos 'coreano', 'inglés', 'matemáticas' y 'ciencia', se almacenan como clave:valor. Imprima el puntaje promedio para los puntajes de las asignaturas de maría.\n",
    "\n",
    "**Guía de codificación:** Utilice los métodos de diccionario **values()** y **len()** funciones.\n",
    "\n",
    "`maria = { 'korean':94, 'english':91, 'maths':89, 'science':83 }`"
   ]
  },
  {
   "cell_type": "code",
   "execution_count": 13,
   "id": "072f606e",
   "metadata": {},
   "outputs": [
    {
     "name": "stdout",
     "output_type": "stream",
     "text": [
      "El promedio de los cursos de maria da el total de:  89.25\n"
     ]
    }
   ],
   "source": [
    "maria = { 'korean':94, 'english':91, 'maths':89, 'science':83 }\n",
    "\n",
    "promedio = sum(maria.values())/len(maria.values())\n",
    "\n",
    "print(\"El promedio de los cursos de maria da el total de: \",promedio)\n"
   ]
  },
  {
   "cell_type": "markdown",
   "id": "a43a9094",
   "metadata": {},
   "source": [
    "___"
   ]
  },
  {
   "cell_type": "markdown",
   "id": "3bf0a55c",
   "metadata": {},
   "source": [
    "## Q 15-01\n",
    "\n",
    "Declare una variable `school` con un diccionario anidado de la siguiente manera.\n",
    "\n",
    "```\n",
    "school = {\n",
    "    'kim':{ 'age':16, 'hei':170, grade:3 },\n",
    "    'lee':{ 'age':15, 'hei':165, grade:2 },\n",
    "    'cho':{ 'age':14, 'hei':167, grade:1 },\n",
    "}\n",
    "```\n",
    "\n",
    "\n",
    "Luego, use la función `deepcopy()` del módulo de copia para escribir un programa que 'copie' a otra variable, `school2`. (Verifique que `school` y `school2` sean variables diferentes a través del operador `is`).\n",
    "\n",
    "**Pauta de codificación:** Imprima el resultado de `school is school2`, que debe ser falso."
   ]
  },
  {
   "cell_type": "code",
   "execution_count": 17,
   "id": "6caa08ea",
   "metadata": {},
   "outputs": [
    {
     "name": "stdout",
     "output_type": "stream",
     "text": [
      "False\n"
     ]
    }
   ],
   "source": [
    "import copy\n",
    "\n",
    "school = {\n",
    "    'kim':{ 'age':16, 'hei':170, 'grade':3 },\n",
    "    'lee':{ 'age':15, 'hei':165, 'grade':2 },\n",
    "    'cho':{ 'age':14, 'hei':167, 'grade':1 },\n",
    "}\n",
    "\n",
    "school2 = copy.deepcopy(school)\n",
    "\n",
    "print(school is school2)"
   ]
  },
  {
   "cell_type": "markdown",
   "id": "77fe3368",
   "metadata": {},
   "source": [
    "___"
   ]
  },
  {
   "cell_type": "markdown",
   "id": "caeada5b",
   "metadata": {},
   "source": [
    "## Q 16-01\n",
    "\n",
    "Hay una tupla de puntuaciones de la siguiente manera.\n",
    "\n",
    "```\n",
    "scores = (\n",
    "    ('DongKyu Park' , 88, 95, 90),\n",
    "    ('YoungMin Kang', 85, 90, 95),\n",
    "    ('DongMin Park' , 70, 90, 80),\n",
    "    ('Seungloo Hong', 90, 90, 95),\n",
    ")\n",
    "```\n",
    "\n",
    "\n",
    "Esta tupla contiene información sobre cuatro estudiantes.\n",
    "\n",
    "En esta información, el nombre del estudiante y las calificaciones en inglés, matemáticas y ciencias forman una tupla.\n",
    "\n",
    "Por ejemplo, 'David Doe' tiene un puntaje de inglés de 88, un puntaje de matemáticas de 95 y un puntaje de ciencias de 90.\n",
    "\n",
    "Extraiga solo puntajes matemáticos desempaquetando usando la función zip en la tupla del puntaje. Escriba un código que calcule el promedio de estos puntajes matemáticos extraídos.\n",
    "\n",
    "**Pauta de código:** use la función **zip** para resolver el problema"
   ]
  },
  {
   "cell_type": "code",
   "execution_count": 11,
   "id": "0d55b914",
   "metadata": {},
   "outputs": [
    {
     "name": "stdout",
     "output_type": "stream",
     "text": [
      "88.16666666666667\n"
     ]
    }
   ],
   "source": [
    "scores = (\n",
    "    ('DongKyu Park' , 88, 95, 90),\n",
    "    ('YoungMin Kang', 85, 90, 95),\n",
    "    ('DongMin Park' , 70, 90, 80),\n",
    "    ('Seungloo Hong', 90, 90, 95),\n",
    ")\n",
    "\n",
    "nombre, *puntaje = zip(*scores)\n",
    "puntos = []\n",
    "\n",
    "for i in range(0,len(puntaje)):\n",
    "    puntos = puntos + list(puntaje[i])\n",
    "promedio = sum(puntos) / len(puntos)\n",
    "\n",
    "print(promedio)\n"
   ]
  },
  {
   "cell_type": "markdown",
   "id": "ed04e881",
   "metadata": {},
   "source": [
    "## Fin"
   ]
  }
 ],
 "metadata": {
  "kernelspec": {
   "display_name": "Python 3 (ipykernel)",
   "language": "python",
   "name": "python3"
  },
  "language_info": {
   "codemirror_mode": {
    "name": "ipython",
    "version": 3
   },
   "file_extension": ".py",
   "mimetype": "text/x-python",
   "name": "python",
   "nbconvert_exporter": "python",
   "pygments_lexer": "ipython3",
   "version": "3.11.5"
  }
 },
 "nbformat": 4,
 "nbformat_minor": 5
}
