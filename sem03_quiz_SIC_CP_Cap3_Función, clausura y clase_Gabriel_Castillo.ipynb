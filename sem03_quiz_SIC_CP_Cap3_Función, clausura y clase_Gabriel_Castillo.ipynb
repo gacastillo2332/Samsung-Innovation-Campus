{
 "cells": [
  {
   "cell_type": "markdown",
   "id": "5ad8356f",
   "metadata": {},
   "source": [
    "# Coding and Programming\n",
    "\n",
    "## Capítulo 3\n",
    "\n",
    "### Función, clausura y clase\n",
    "\n",
    "- **Unidad 17.** Función\n",
    "- **Unidad 18.** Llamada a la función de recurrencia.\n",
    "- **Unidad 19.** Lambda\n",
    "- **Unidad 20.** Clausura\n",
    "- **Unidad 21.** Clase\n",
    "\n",
    "# Quiz 3"
   ]
  },
  {
   "cell_type": "markdown",
   "id": "a94ec368",
   "metadata": {},
   "source": [
    "___"
   ]
  },
  {
   "cell_type": "markdown",
   "id": "a11871f3",
   "metadata": {},
   "source": [
    "## Q 17-01\n",
    "\n",
    "Reciba las coordenadas `(x1, y1), (x2, y2)` de dos puntos del usuario e imprima la distancia entre los dos puntos de la siguiente manera. Para hacer esto, implemente la función `distancia(x1, y1, x2, y2)`.\n",
    "\n",
    "\n",
    "**Pauta de código:** consulte la fórmula para encontrar la distancia entre dos puntos.\n"
   ]
  },
  {
   "cell_type": "code",
   "execution_count": 1,
   "id": "19848cf5",
   "metadata": {},
   "outputs": [
    {
     "name": "stdout",
     "output_type": "stream",
     "text": [
      "Introduzca el valor de X1: 2\n",
      "Introduzca el valor de X2: 4\n",
      "Introduzca el valor de Y1: 4\n",
      "Introduzca el valor de Y2: 8\n",
      "Distancia entre los puntos x1: 2.0 y1: 4.0 x2: 4.0 y2: 8.0 es de: 4.47213595499958\n"
     ]
    }
   ],
   "source": [
    "def distancia(x1, y1, x2, y2):\n",
    "    return((((x2 - x1) ** 2)+((y2 - y1) ** 2))**(1 / 2))\n",
    "\n",
    "\n",
    "ban = False\n",
    "while(ban == False):\n",
    "    try:\n",
    "        x1 = float(input(\"Introduzca el valor de X1: \"))\n",
    "        ban = True\n",
    "    except:\n",
    "        print(\"Introduciste una letra o un caracter especial. \")\n",
    "\n",
    "ban = False\n",
    "while(ban == False):\n",
    "    try:\n",
    "        x2 = float(input(\"Introduzca el valor de X2: \"))\n",
    "        ban = True\n",
    "    except:\n",
    "        print(\"Introduciste una letra o un caracter especial. \")\n",
    "\n",
    "ban = False\n",
    "while(ban == False):\n",
    "    try:\n",
    "        y1 = float(input(\"Introduzca el valor de Y1: \"))\n",
    "        ban = True\n",
    "    except:\n",
    "        print(\"Introduciste una letra o un caracter especial. \")\n",
    "\n",
    "ban = False\n",
    "while(ban == False):\n",
    "    try:\n",
    "        y2 = float(input(\"Introduzca el valor de Y2: \"))\n",
    "        ban = True\n",
    "    except:\n",
    "        print(\"Introduciste una letra o un caracter especial. \")\n",
    "\n",
    "print(\"Distancia entre los puntos x1: {} y1: {} x2: {} y2: {} es de: {}\" .format(x1, y1, x2, y2, distancia(x1, y1, x2, y2)))"
   ]
  },
  {
   "cell_type": "markdown",
   "id": "a207d974",
   "metadata": {},
   "source": [
    "## Q 18-01\n",
    "\n",
    "Un palíndromo es una oración, palabra o cadena que es lo mismo que leer cualquier carácter de forma consecutiva.\n",
    "\n",
    "Por ejemplo, hay palabras como level, kayak, salas, somos, radar, reconocer.\n",
    "\n",
    "Usemos una llamada recursiva para determinar el palíndromo.\n",
    "\n",
    "Defina una función llamada `is_palindrome` y escriba un programa que reciba una cadena del usuario e imprima si el palindrome es correcto o no.\n",
    "\n",
    "**Pauta de código:** Llame a la función `is_palindrome` dentro de la función `is_palindrome`"
   ]
  },
  {
   "cell_type": "code",
   "execution_count": 2,
   "id": "d7825109",
   "metadata": {},
   "outputs": [
    {
     "name": "stdout",
     "output_type": "stream",
     "text": [
      "La palabra kayak es un palindromo.\n",
      "La palabra level es un palindromo.\n",
      "La palabra salas es un palindromo.\n",
      "La palabra somos es un palindromo.\n",
      "La palabra radar es un palindromo.\n",
      "La palabra reconocer es un palindromo.\n",
      "La palabra gabriel NO es un palindromo.\n"
     ]
    }
   ],
   "source": [
    "def is_palindrome(palabra):\n",
    "    cont = 0\n",
    "    palabra = palabra.lower()\n",
    "\n",
    "    for i in range(0, len(palabra), 1):\n",
    "        if(palabra[i]==palabra[len(palabra)-1-i]):\n",
    "            #print(palabra[i])\n",
    "            #print(palabra[len(palabra)-1-i])\n",
    "            cont += 1\n",
    "\n",
    "    if(cont == len(palabra)):\n",
    "        print(\"La palabra {} es un palindromo.\".format(palabra))\n",
    "    else:\n",
    "        print(\"La palabra {} NO es un palindromo.\".format(palabra))\n",
    "\n",
    "def ispalindrome(lista):\n",
    "    for palabra in lista:\n",
    "        is_palindrome(palabra)\n",
    "\n",
    "\n",
    "\n",
    "lista = [\"Kayak\",\"Level\",\"Salas\",\"Somos\",\"Radar\",\"Reconocer\",\"Gabriel\"]\n",
    "\n",
    "ispalindrome(lista)"
   ]
  },
  {
   "cell_type": "markdown",
   "id": "fbfb4985",
   "metadata": {},
   "source": [
    "## Q 19-01\n",
    "\n",
    "\n",
    "Después de poner una lista llamada `n_list` con valores de `[10, 20, 30]` en la función `map`.\n",
    "\n",
    "```\n",
    "n_list = [10,20,30]\n",
    "twice  = list(map(lambda x: x*2, n_list))\n",
    "triple = list(map(lambda x: x*3, n_list))\n",
    "```\n",
    "\n",
    "Indique el contenido de las variables `twice` y `triple`."
   ]
  },
  {
   "cell_type": "markdown",
   "id": "6b79c409",
   "metadata": {},
   "source": [
    "La variable twice alamacena una lista con los valores [20,40,60] porque se le aplica una funcion map() donde sus parametros son dos la funcion que se le va aplicar a la lista y la lista donde se le va aplicar la funcion. En nuestro caso la funcion a aplicar a la lista es una multiplicacion por dos y por eso cambia los valores de la lista original [10, 20, 30] a los valores de la lista que tenemos almacenados en la variable twice\n",
    "\n",
    "Algo similar pasa con la variable triple en ella se alamacena una lista con los valores [30, 60, 90] esto se debe a que la funcion es un multiplicador por 3 y esta se aplica sobre la lista orginal y da como resultado la lista que tenemos almacenado en la variable triple.\n"
   ]
  },
  {
   "cell_type": "markdown",
   "id": "98938d2d",
   "metadata": {},
   "source": [
    "## Q 20-01\n",
    "\n",
    "En el siguiente código, espere qué valor se incluye finalmente en `num_list`. Calcule el resultado esperado a mano.\n",
    "\n",
    "**Pauta de codificación:** Escriba 5 veces la declaración `for`. Espere este resultado y envíe el resultado.\n",
    "\n",
    "```\n",
    "def calc_digit(n):\n",
    "    def final(digit):\n",
    "        return digit**n\n",
    "    return final\n",
    "\n",
    "num_list = []\n",
    "for num in range(1,6):\n",
    "    num_list.append( calc_digit(num) )\n",
    "    print( num_list[num-1](num) )\n",
    "```"
   ]
  },
  {
   "cell_type": "markdown",
   "id": "8f50f99a",
   "metadata": {},
   "source": [
    "Primera iteración:\n",
    "    num = 1\n",
    "    \n",
    "    Parametros de la funcion calc_digit\n",
    "    n = 1\n",
    "    \n",
    "        Parametro de la funcion final\n",
    "        digit = 1\n",
    "        operacion que se realiza: 1 ** 1\n",
    "        La funcion retorna  = 1\n",
    "\n",
    "    la funcion calc_digit retorna = 1\n",
    "\n",
    "num_list = [1]\n",
    "\n",
    "\n",
    "Segunda iteración:\n",
    "    num = 2\n",
    "    \n",
    "    Parametros de la funcion calc_digit\n",
    "    n = 2\n",
    "    \n",
    "        Parametro de la funcion final\n",
    "        digit = 2\n",
    "        operacion que se realiza: 2 ** 2\n",
    "        La funcion retorna  = 4\n",
    "\n",
    "    la funcion calc_digit retorna = 4 \n",
    "\n",
    "num_list = [1, 4]\n",
    "\n",
    "Tercera iteración:\n",
    "    num = 3\n",
    "    \n",
    "    Parametros de la funcion calc_digit\n",
    "    n = 3\n",
    "    \n",
    "        Parametro de la funcion final\n",
    "        digit = 3\n",
    "        operacion que se realiza: 3 ** 3\n",
    "        La funcion retorna  = 27\n",
    "\n",
    "    la funcion calc_digit retorna = 27\n",
    "\n",
    "num_list = [1, 4, 27]\n",
    "\n",
    "\n",
    "Tercera iteración:\n",
    "    num = 4\n",
    "    \n",
    "    Parametros de la funcion calc_digit\n",
    "    n = 4\n",
    "    \n",
    "        Parametro de la funcion final\n",
    "        digit = 4\n",
    "        operacion que se realiza: 4 ** 4\n",
    "        La funcion retorna  = 256\n",
    "\n",
    "    la funcion calc_digit retorna = 256\n",
    "\n",
    "num_list = [1, 4, 27, 256]\n",
    "\n",
    "\n",
    "Tercera iteración:\n",
    "    num = 5\n",
    "    \n",
    "    Parametros de la funcion calc_digit\n",
    "    n = 5\n",
    "    \n",
    "        Parametro de la funcion final\n",
    "        digit = 5\n",
    "        operacion que se realiza: 5 ** 5\n",
    "        La funcion retorna  = 3125\n",
    "\n",
    "    la funcion calc_digit retorna = 3125\n",
    "\n",
    "num_list = [1, 4, 27, 256, 3125]\n",
    "\n",
    "\n",
    "Lo que da como resultado la lista final que se presenta al final del programa, num_list = [1, 4, 27, 256, 3125]\n"
   ]
  },
  {
   "cell_type": "code",
   "execution_count": 3,
   "id": "73052b42",
   "metadata": {},
   "outputs": [
    {
     "name": "stdout",
     "output_type": "stream",
     "text": [
      "1\n",
      "4\n",
      "27\n",
      "256\n",
      "3125\n"
     ]
    }
   ],
   "source": [
    "def calc_digit(n):\n",
    "    def final(digit):\n",
    "        return digit**n\n",
    "    return final\n",
    "\n",
    "num_list = []\n",
    "for num in range(1,6):\n",
    "    num_list.append( calc_digit(num) )\n",
    "    print( num_list[num-1](num) )"
   ]
  },
  {
   "cell_type": "markdown",
   "id": "d3ece88b",
   "metadata": {},
   "source": [
    "## Q 21-01\n",
    "\n",
    "Implemente las funciones de multiplicación (*) y división (/) de dos vectores usando los métodos `mul` y `truediv` aprendidos en la **unidad 21**. Suponiendo que `v1` es `(30, 40)` y `v2` es `(10, 20)`, codifique (escriba la declaración de salida) para devolver el siguiente resultado como resultado de la multiplicación y división de dos vectores.\n",
    "\n",
    "\n",
    "**Pauta de codificación:** escriba código que amplíe la funcionalidad de la clase `Vector2D` que aprendió en este capítulo."
   ]
  },
  {
   "cell_type": "code",
   "execution_count": 4,
   "id": "dc20fb8f",
   "metadata": {},
   "outputs": [
    {
     "name": "stdout",
     "output_type": "stream",
     "text": [
      "Las coordenadas son (x:1200, y:1600)\n",
      "Las coordenadas son (x:0.75, y:1.0)\n"
     ]
    }
   ],
   "source": [
    "class vector2D():\n",
    "  def __init__(self, x=0, y=0):\n",
    "    self.x = x\n",
    "    self.y = y\n",
    "\n",
    "\n",
    "  def __mul__(self,other):\n",
    "    return vector2D(self.x * other.x, self.y *other.y)\n",
    "  def __truediv__(self,other):\n",
    "    return vector2D(self.x / other.x, self.y /other.y)\n",
    "  def __str__(self):\n",
    "    return f\"Las coordenadas son (x:{self.x}, y:{self.y})\"\n",
    "v1 = vector2D(30,40)\n",
    "v2  = vector2D(40,40)\n",
    "v3_Multiplicacion = v1 * v2\n",
    "v3_division = v1 / v2\n",
    "print(v3_Multiplicacion)\n",
    "print(v3_division)\n"
   ]
  },
  {
   "cell_type": "markdown",
   "id": "2717ce09",
   "metadata": {},
   "source": [
    "___"
   ]
  },
  {
   "cell_type": "markdown",
   "id": "10514335",
   "metadata": {},
   "source": [
    "# Fin"
   ]
  }
 ],
 "metadata": {
  "kernelspec": {
   "display_name": "Python_ds",
   "language": "python",
   "name": "python_ds"
  },
  "language_info": {
   "codemirror_mode": {
    "name": "ipython",
    "version": 3
   },
   "file_extension": ".py",
   "mimetype": "text/x-python",
   "name": "python",
   "nbconvert_exporter": "python",
   "pygments_lexer": "ipython3",
   "version": "3.9.7"
  }
 },
 "nbformat": 4,
 "nbformat_minor": 5
}
