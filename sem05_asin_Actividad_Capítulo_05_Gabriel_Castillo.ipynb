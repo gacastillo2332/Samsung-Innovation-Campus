{
 "cells": [
  {
   "cell_type": "markdown",
   "id": "5ad8356f",
   "metadata": {},
   "source": [
    "# Actividades Capítulo 5.\n",
    "\n",
    "\n",
    "# Algoritmos de clasificación.\n",
    "\n",
    "## Resumen de actividades\n",
    "\n",
    "\n",
    "- **Unidad 27.** Ordenamiento de burbuja, (Bubble Sort) algoritmo de ordenamiento, selección e inserción\n",
    "- **Unidad 28.** Ordenar por selección, ordenamiento por inserción.\n",
    "- **Unidad 29.** Clasificación rápida\n"
   ]
  },
  {
   "cell_type": "markdown",
   "id": "8c5aa9c8",
   "metadata": {},
   "source": [
    "# Actividad: Ordenamiento de Burbuja\n",
    "\n",
    "\n",
    "## Instrucciones\n",
    "\n",
    "1. Explique brevemente y en forma clara cómo funciona el algoritmo de ordenamiento de burbuja.\n",
    "\n",
    "2. Desarrollo un función donde se use el ordenamiento de burbuja aplicada a una lista de valores enteros.\n",
    "\n"
   ]
  },
  {
   "cell_type": "code",
   "execution_count": 42,
   "id": "90cd2e33",
   "metadata": {},
   "outputs": [
    {
     "name": "stdout",
     "output_type": "stream",
     "text": [
      "Lista original: [50, 30, 40, 10, 20]\n",
      "Lista ordenada: [10, 20, 30, 40, 50]\n"
     ]
    }
   ],
   "source": [
    "# Espacio para desarrollar el código requerido, recuerde agregar algunos\n",
    "# comentarios breves sobre su funcionamiento.\n",
    "\n",
    "\n",
    "\"\"\"Explicación del algoritmo burbuja\n",
    "El algoritmo de ordenamiento de burbuja funciona recibiendo una lista desordenada, y se va ordenando en diferentes iteraciones comparando \n",
    "si el numero de la posicion actual es mayor al de la siguiente posicion en la lista, si esto se cumple se intercambian los numeros de posicion\n",
    "y se continua iterando hasta ordenar la lista.\n",
    "\"\"\"\n",
    "\n",
    "\n",
    "def bubblesort(s):\n",
    "    n = len(s)\n",
    "    for i in range(n): #Se itera la cantidad de elementos que tiene nuestra lista introducida por parametro\n",
    "        #print(s)\n",
    "        for j in range(n-1): # Se vuelve a realizar un estructura repetitiva para iterar sobre el tamaño de nuesta lista menos uno\n",
    "            if s[j] > s[j + 1]: #Se compara el elemento actual y el elemento proximo para saber si el elemento actual es mayor\n",
    "                s[j], s[j + 1] = s[j + 1], s[j] #Si el elemento actual es mayor se intercambiaran los numeros de posicion\n",
    "\n",
    "\n",
    "s = [50, 30, 40, 10, 20] #Lista original\n",
    "print(\"Lista original: {}\".format(s)) #Se imprime la lista original\n",
    "bubblesort(s)  #Se hace el llamado a la funcion de ordenamiento burbuja\n",
    "print(\"Lista ordenada: {}\".format(s)) #Se imprime la lista ordenada\n"
   ]
  },
  {
   "cell_type": "markdown",
   "id": "a11871f3",
   "metadata": {},
   "source": [
    "# Actividad: Función Swap.\n",
    "\n",
    "1. Escriba una función que permita el intercambion de elementos en una lista.\n",
    "2. Los argumentos de esta función serán, la lista y los indices de los elementos que se desean intercambiar.\n",
    "3. En la siguiente celda desarrollo el código requerido, recuerde agregar comentarias breves que expliquen su funcionamiento.\n"
   ]
  },
  {
   "cell_type": "code",
   "execution_count": 46,
   "id": "1e7a5371",
   "metadata": {},
   "outputs": [
    {
     "name": "stdout",
     "output_type": "stream",
     "text": [
      "[10, 20]\n",
      "[20, 10]\n"
     ]
    }
   ],
   "source": [
    "# Espacio para desarrollar la actividad, si tienes alguna duda o comentario adicional\n",
    "# lo puedes dejar planteado acá.\n",
    "\"\"\"La siguiente funcion tiene el objetivo de intercambiar dos elementos de una lista y \n",
    "por medio de los indices introducidos por parametro a la funcion, se intercambiaran dichos valores entre si.\"\"\"\n",
    "\n",
    "def swap2(s, x, y): # s:Lista x:indiceN1 y:indiceN2\n",
    "    s[x], s[y] = s[y], s[x] # Se intercambian los valores del indice \"x\" y \"y\"\n",
    "\n",
    "# Lista Original\n",
    "s = [10, 20]\n",
    "# Se imprime la lista original\n",
    "print(s)\n",
    "# Se realiza el llamado a la funcion de intercambio de valores\n",
    "swap2(s,0,1)\n",
    "# Se imprime la lista con los cambios realizados\n",
    "print(s)\n"
   ]
  },
  {
   "cell_type": "markdown",
   "id": "a207d974",
   "metadata": {},
   "source": [
    "\n",
    "# Actividad: \n",
    "\n",
    "1. Explique brevemente el funcionamiento del algoritmo Quick Sort.\n",
    "2. Desarrollo el código para implementar el algoritmo Quick Sort.\n",
    "3. Revise las unidad 29, sección 1.1"
   ]
  },
  {
   "cell_type": "code",
   "execution_count": 49,
   "id": "86897f7e",
   "metadata": {},
   "outputs": [
    {
     "name": "stdout",
     "output_type": "stream",
     "text": [
      "[15, 10, 12, 20, 25, 13, 22]\n",
      "[10, 12, 13, 15, 20, 22, 25]\n"
     ]
    }
   ],
   "source": [
    "\"\"\"El método Quicksort se apoya en la estrategia de dividir. Divide la lista inicial con el objetivo de ordenar un conjunto extenso en problemas más manejables\n",
    " al separar la lista en segmentos más pequeños. Después, aborda cada uno de estas sublistas de manera recursiva, ordenando las sublistas. \n",
    " Finalmente, une las sublistas para obtener las lista totalmente ordenada.\"\"\"\n",
    "\n",
    "def partition1(s, low, high):\n",
    "    # Selecciona el primer elemento como pivote\n",
    "    pivot = s[low]\n",
    "    # Inicializa los indices izquierdo y derecho\n",
    "    left, right = low + 1, high\n",
    "    # Mientras los indices izquierdo y derecho no se crucen\n",
    "    while left < right:\n",
    "        # Encuentra el primer elemento mayor que el pivote desde la izquierda\n",
    "        while left <= right and s[left] <= pivot:\n",
    "            left += 1\n",
    "        # Encuentra el primer elemento menor que el pivote desde la derecha\n",
    "        while left <= right and s[right] >= pivot:\n",
    "            right -= 1\n",
    "        # Si los indices no se han cruzado, intercambia los elementos\n",
    "        if left < right:\n",
    "            s[left], s[right] = s[right], s[left]\n",
    "    # Coloca el pivote en su posicion final\n",
    "    pivotpoint = right\n",
    "    s[low], s[pivotpoint] = s[pivotpoint], s[low]\n",
    "    return pivotpoint\n",
    "\n",
    "def quicksort1(s, low, high):\n",
    "    # Verifica si hay al menos dos elementos en la lista\n",
    "    if low < high:\n",
    "        # Particiona el arreglo y obtiene el punto de pivote\n",
    "        pivotpoint = partition1(s, low, high)\n",
    "        # Ordena recursivamente la sublista izquierda al pivote\n",
    "        quicksort1(s, low, pivotpoint - 1)\n",
    "        # Ordena recursivamente la sublista derecha al pivote\n",
    "        quicksort1(s, pivotpoint + 1, high)\n",
    "\n",
    "# Lista de ejemplo\n",
    "s = [15, 10, 12, 20, 25, 13, 22]\n",
    "# Imprime la lista de ejemplo\n",
    "print(s)\n",
    "# Se realiza el llamado a la funcion\n",
    "quicksort1(s, 0, len(s) - 1)\n",
    "# Imprime la lista ordenada\n",
    "print(s)\n"
   ]
  },
  {
   "cell_type": "markdown",
   "id": "26a6bb9e",
   "metadata": {},
   "source": [
    "# Actividad: Quick Sort usando un valor de pivote aleatorio.\n",
    "\n",
    "1. Explique brevemente el funcionamiento del algoritmo Quick Sort en la modaladidad de usar un valor de pivote aleatorio.\n",
    "2. Comente las ventajas de esta variación.\n",
    "3. Desarrollo el código necesarion para este algoritmo.\n",
    "4. Agregue comentarios sobre su funcionamiento.\n",
    "\n"
   ]
  },
  {
   "cell_type": "code",
   "execution_count": 51,
   "id": "565616fd",
   "metadata": {},
   "outputs": [
    {
     "name": "stdout",
     "output_type": "stream",
     "text": [
      "[25, 22, 20, 15, 13, 12, 10]\n",
      "[10, 12, 13, 15, 20, 22, 25]\n"
     ]
    }
   ],
   "source": [
    "from random import randint\n",
    "\n",
    "def partition2(s, low, high):\n",
    "    # Selecciona un indice aleatorio entre low y high\n",
    "    rand = randint(low, high)\n",
    "    # Intercambia el elemento en el indice aleatorio con el elemento en el índice \"low\"\n",
    "    s[low], s[rand] = s[rand], s[low]\n",
    "    # Elige el pivote como el elemento en el indice \"low\"\n",
    "    pivot, left, right = s[low], low, high\n",
    "    # Itera hasta que left sea mayor que right\n",
    "    while left < right:\n",
    "        # Encuentra un elemento más grande que el pivote desde la izquierda\n",
    "        while left < high and s[left] <= pivot:\n",
    "            left += 1\n",
    "        # Encuentra un elemento más pequeño que el pivote desde la derecha\n",
    "        while right > low and pivot <= s[right]:\n",
    "            right -= 1\n",
    "        # Si left es menor que right, intercambia los elementos en left y right\n",
    "        if left < right:\n",
    "            s[left], s[right] = s[right], s[left]\n",
    "    # Al final del bucle, mueve el pivote a su posición correcta\n",
    "    s[low], s[right] = s[right], s[low]\n",
    "    # Retorna el índice donde quedó el pivote\n",
    "    return right\n",
    "\n",
    "def quicksort2(s, low, high):\n",
    "    # Si low es menor que high, hay más de un elemento en el segmento\n",
    "    if low < high:\n",
    "        # Divide el segmento en dos partes y obtiene el punto de particion (pivote)\n",
    "        pivotpoint = partition2(s, low, high)\n",
    "        # Llama recursivamente a quicksort en las dos partes\n",
    "        quicksort2(s, low, pivotpoint - 1)\n",
    "        quicksort2(s, pivotpoint + 1, high)\n",
    "\n",
    "# Lista de ejemplo\n",
    "s = [25, 22, 20, 15, 13, 12, 10]\n",
    "# Imprime la lista de ejemplo\n",
    "print(s)\n",
    "# Se realiza el llamado a la función quicksort2 para ordenar la lista\n",
    "quicksort2(s, 0, len(s) - 1)\n",
    "# Imprime la lista ordenada\n",
    "print(s)\n"
   ]
  }
 ],
 "metadata": {
  "kernelspec": {
   "display_name": "Python 3 (ipykernel)",
   "language": "python",
   "name": "python3"
  },
  "language_info": {
   "codemirror_mode": {
    "name": "ipython",
    "version": 3
   },
   "file_extension": ".py",
   "mimetype": "text/x-python",
   "name": "python",
   "nbconvert_exporter": "python",
   "pygments_lexer": "ipython3",
   "version": "3.9.7"
  }
 },
 "nbformat": 4,
 "nbformat_minor": 5
}
